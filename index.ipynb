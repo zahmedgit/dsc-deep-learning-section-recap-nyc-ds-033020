{
 "cells": [
  {
   "cell_type": "markdown",
   "metadata": {},
   "source": [
    "# Deep Neural Networks - Recap\n",
    "\n",
    "## Key Takeaways\n",
    "\n",
    "The key takeaways from this section include:\n",
    "\n",
    "* Deep neural network representations can lighten the burden and automate certain tasks of heavy data preprocessing\n",
    "* Deep representations need exponentially fewer hidden units than shallow networks, to obtain the same performance\n",
    "* Parameter initialization, forward propagation, cost function evaluation, and backward propagation are again the cornerstones of deep networks\n",
    "* Tensors are the building blocks of neural networks and a good understanding of them and how to use them in Python is crucial\n",
    "* Scalars can be seen as 0-D tensors. Vectors can be seen as 1-D tensors, and matrices as 2-D tensors\n",
    "* The usage of tensors reaches beyond matrices: tensors can have N dimensions\n",
    "* Tensors can be created and manipulated using Numpy\n",
    "* Keras makes building neural networks in Python easy, and you learned how to do that in this section\n",
    "* You can use Keras to do some NLP as well, e.g. for tokenization "
   ]
  }
 ],
 "metadata": {
  "kernelspec": {
   "display_name": "Python 3",
   "language": "python",
   "name": "python3"
  },
  "language_info": {
   "codemirror_mode": {
    "name": "ipython",
    "version": 3
   },
   "file_extension": ".py",
   "mimetype": "text/x-python",
   "name": "python",
   "nbconvert_exporter": "python",
   "pygments_lexer": "ipython3",
   "version": "3.6.9"
  }
 },
 "nbformat": 4,
 "nbformat_minor": 2
}
